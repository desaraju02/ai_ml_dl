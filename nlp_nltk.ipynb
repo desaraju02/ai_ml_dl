{
  "nbformat": 4,
  "nbformat_minor": 0,
  "metadata": {
    "colab": {
      "provenance": [],
      "authorship_tag": "ABX9TyOts4JcE8so8Pdlp25dsBnt",
      "include_colab_link": true
    },
    "kernelspec": {
      "name": "python3",
      "display_name": "Python 3"
    },
    "language_info": {
      "name": "python"
    }
  },
  "cells": [
    {
      "cell_type": "markdown",
      "metadata": {
        "id": "view-in-github",
        "colab_type": "text"
      },
      "source": [
        "<a href=\"https://colab.research.google.com/github/desaraju02/ai_ml_dl/blob/main/nlp_nltk.ipynb\" target=\"_parent\"><img src=\"https://colab.research.google.com/assets/colab-badge.svg\" alt=\"Open In Colab\"/></a>"
      ]
    },
    {
      "cell_type": "code",
      "execution_count": 1,
      "metadata": {
        "colab": {
          "base_uri": "https://localhost:8080/"
        },
        "id": "edfpPF6m77Kg",
        "outputId": "c9076e81-f495-4a89-daf6-4a578793e6bf"
      },
      "outputs": [
        {
          "output_type": "stream",
          "name": "stdout",
          "text": [
            "Requirement already satisfied: nltk in /usr/local/lib/python3.11/dist-packages (3.9.1)\n",
            "Requirement already satisfied: click in /usr/local/lib/python3.11/dist-packages (from nltk) (8.1.8)\n",
            "Requirement already satisfied: joblib in /usr/local/lib/python3.11/dist-packages (from nltk) (1.4.2)\n",
            "Requirement already satisfied: regex>=2021.8.3 in /usr/local/lib/python3.11/dist-packages (from nltk) (2024.11.6)\n",
            "Requirement already satisfied: tqdm in /usr/local/lib/python3.11/dist-packages (from nltk) (4.67.1)\n"
          ]
        }
      ],
      "source": [
        "!pip install nltk"
      ]
    },
    {
      "cell_type": "code",
      "source": [
        "!pip install svgling"
      ],
      "metadata": {
        "colab": {
          "base_uri": "https://localhost:8080/"
        },
        "id": "lX8vrFOJBC7W",
        "outputId": "da5d011f-4332-4613-de64-3bd3e96b17af"
      },
      "execution_count": 84,
      "outputs": [
        {
          "output_type": "stream",
          "name": "stdout",
          "text": [
            "Collecting svgling\n",
            "  Downloading svgling-0.5.0-py3-none-any.whl.metadata (7.4 kB)\n",
            "Collecting svgwrite (from svgling)\n",
            "  Downloading svgwrite-1.4.3-py3-none-any.whl.metadata (8.8 kB)\n",
            "Downloading svgling-0.5.0-py3-none-any.whl (31 kB)\n",
            "Downloading svgwrite-1.4.3-py3-none-any.whl (67 kB)\n",
            "\u001b[2K   \u001b[90m━━━━━━━━━━━━━━━━━━━━━━━━━━━━━━━━━━━━━━━━\u001b[0m \u001b[32m67.1/67.1 kB\u001b[0m \u001b[31m4.5 MB/s\u001b[0m eta \u001b[36m0:00:00\u001b[0m\n",
            "\u001b[?25hInstalling collected packages: svgwrite, svgling\n",
            "Successfully installed svgling-0.5.0 svgwrite-1.4.3\n"
          ]
        }
      ]
    },
    {
      "cell_type": "code",
      "source": [
        "import nltk\n",
        "import svgling\n",
        "nltk.download('punkt')\n",
        "nltk.download('punkt_tab')\n",
        "nltk.download('wordnet')\n",
        "nltk.download('stopwords')\n",
        "nltk.download('averaged_perceptron_tagger_eng')\n",
        "nltk.download('maxent_ne_chunker_tab')\n",
        "nltk.download('maxent_ne_chunker')\n",
        "nltk.download('words')"
      ],
      "metadata": {
        "colab": {
          "base_uri": "https://localhost:8080/"
        },
        "id": "nfF8Gjgu97Pe",
        "outputId": "51e247e6-0c89-456f-9668-915403e0b5bd"
      },
      "execution_count": 85,
      "outputs": [
        {
          "output_type": "stream",
          "name": "stderr",
          "text": [
            "[nltk_data] Downloading package punkt to /root/nltk_data...\n",
            "[nltk_data]   Package punkt is already up-to-date!\n",
            "[nltk_data] Downloading package punkt_tab to /root/nltk_data...\n",
            "[nltk_data]   Package punkt_tab is already up-to-date!\n",
            "[nltk_data] Downloading package wordnet to /root/nltk_data...\n",
            "[nltk_data]   Package wordnet is already up-to-date!\n",
            "[nltk_data] Downloading package stopwords to /root/nltk_data...\n",
            "[nltk_data]   Package stopwords is already up-to-date!\n",
            "[nltk_data] Downloading package averaged_perceptron_tagger_eng to\n",
            "[nltk_data]     /root/nltk_data...\n",
            "[nltk_data]   Package averaged_perceptron_tagger_eng is already up-to-\n",
            "[nltk_data]       date!\n",
            "[nltk_data] Downloading package maxent_ne_chunker_tab to\n",
            "[nltk_data]     /root/nltk_data...\n",
            "[nltk_data]   Package maxent_ne_chunker_tab is already up-to-date!\n",
            "[nltk_data] Downloading package maxent_ne_chunker to\n",
            "[nltk_data]     /root/nltk_data...\n",
            "[nltk_data]   Package maxent_ne_chunker is already up-to-date!\n",
            "[nltk_data] Downloading package words to /root/nltk_data...\n",
            "[nltk_data]   Package words is already up-to-date!\n"
          ]
        },
        {
          "output_type": "execute_result",
          "data": {
            "text/plain": [
              "True"
            ]
          },
          "metadata": {},
          "execution_count": 85
        }
      ]
    },
    {
      "cell_type": "code",
      "source": [
        "corpus = \"\"\" It is a long established fact that a reader will be distracted by the readable content\n",
        "of a page when looking at its layout. The point of using Lorem Ipsum is that it has a more-or-less normal distribution of letters,\n",
        "as opposed to using 'Content here, content here', making it look like readable English. Many desktop publishing packages and web page\n",
        "editors now use Lorem Ipsum as their default model text, and a search for 'lorem ipsum' will\n",
        "uncover many web sites still in their infancy. Various versions have evolved over the years,\n",
        "sometimes by accident, sometimes on purpose (injected humour and the like). \"\"\""
      ],
      "metadata": {
        "id": "tq6WFI9h8FNp"
      },
      "execution_count": 3,
      "outputs": []
    },
    {
      "cell_type": "code",
      "source": [
        "print(corpus)"
      ],
      "metadata": {
        "colab": {
          "base_uri": "https://localhost:8080/"
        },
        "id": "yb98I_my8I6B",
        "outputId": "614c12bd-7b1f-4005-b83a-015570498804"
      },
      "execution_count": 4,
      "outputs": [
        {
          "output_type": "stream",
          "name": "stdout",
          "text": [
            " It is a long established fact that a reader will be distracted by the readable content\n",
            "of a page when looking at its layout. The point of using Lorem Ipsum is that it has a more-or-less normal distribution of letters,\n",
            "as opposed to using 'Content here, content here', making it look like readable English. Many desktop publishing packages and web page\n",
            "editors now use Lorem Ipsum as their default model text, and a search for 'lorem ipsum' will\n",
            "uncover many web sites still in their infancy. Various versions have evolved over the years,\n",
            "sometimes by accident, sometimes on purpose (injected humour and the like). \n"
          ]
        }
      ]
    },
    {
      "cell_type": "code",
      "source": [
        "from nltk.tokenize import sent_tokenize"
      ],
      "metadata": {
        "id": "Y-RTdvL_8KA5"
      },
      "execution_count": 5,
      "outputs": []
    },
    {
      "cell_type": "code",
      "source": [
        "sentences = sent_tokenize(corpus)\n"
      ],
      "metadata": {
        "id": "eQ9_B6w_8PFQ"
      },
      "execution_count": 6,
      "outputs": []
    },
    {
      "cell_type": "code",
      "source": [
        "type(sentences)"
      ],
      "metadata": {
        "colab": {
          "base_uri": "https://localhost:8080/"
        },
        "id": "UARTgtIt-TCc",
        "outputId": "50e0b99b-8810-4d7b-9fa4-35e28407be42"
      },
      "execution_count": 7,
      "outputs": [
        {
          "output_type": "execute_result",
          "data": {
            "text/plain": [
              "list"
            ]
          },
          "metadata": {},
          "execution_count": 7
        }
      ]
    },
    {
      "cell_type": "code",
      "source": [
        "sentences"
      ],
      "metadata": {
        "colab": {
          "base_uri": "https://localhost:8080/"
        },
        "id": "Uvm60EZL-aT8",
        "outputId": "740906e6-ac8b-422e-fe5d-63ea420040c1"
      },
      "execution_count": 8,
      "outputs": [
        {
          "output_type": "execute_result",
          "data": {
            "text/plain": [
              "[' It is a long established fact that a reader will be distracted by the readable content\\nof a page when looking at its layout.',\n",
              " \"The point of using Lorem Ipsum is that it has a more-or-less normal distribution of letters,\\nas opposed to using 'Content here, content here', making it look like readable English.\",\n",
              " \"Many desktop publishing packages and web page\\neditors now use Lorem Ipsum as their default model text, and a search for 'lorem ipsum' will\\nuncover many web sites still in their infancy.\",\n",
              " 'Various versions have evolved over the years,\\nsometimes by accident, sometimes on purpose (injected humour and the like).']"
            ]
          },
          "metadata": {},
          "execution_count": 8
        }
      ]
    },
    {
      "cell_type": "code",
      "source": [
        "from nltk.tokenize import word_tokenize"
      ],
      "metadata": {
        "id": "GltulnP1-hOy"
      },
      "execution_count": 9,
      "outputs": []
    },
    {
      "cell_type": "code",
      "source": [
        "words = word_tokenize(corpus)"
      ],
      "metadata": {
        "id": "Bu8XlBiO-lyL"
      },
      "execution_count": 10,
      "outputs": []
    },
    {
      "cell_type": "code",
      "source": [
        "words"
      ],
      "metadata": {
        "colab": {
          "base_uri": "https://localhost:8080/"
        },
        "id": "kA4uUoQw-o4D",
        "outputId": "c75ae1a5-7936-4583-ff1e-afb8617fcd20"
      },
      "execution_count": 11,
      "outputs": [
        {
          "output_type": "execute_result",
          "data": {
            "text/plain": [
              "['It',\n",
              " 'is',\n",
              " 'a',\n",
              " 'long',\n",
              " 'established',\n",
              " 'fact',\n",
              " 'that',\n",
              " 'a',\n",
              " 'reader',\n",
              " 'will',\n",
              " 'be',\n",
              " 'distracted',\n",
              " 'by',\n",
              " 'the',\n",
              " 'readable',\n",
              " 'content',\n",
              " 'of',\n",
              " 'a',\n",
              " 'page',\n",
              " 'when',\n",
              " 'looking',\n",
              " 'at',\n",
              " 'its',\n",
              " 'layout',\n",
              " '.',\n",
              " 'The',\n",
              " 'point',\n",
              " 'of',\n",
              " 'using',\n",
              " 'Lorem',\n",
              " 'Ipsum',\n",
              " 'is',\n",
              " 'that',\n",
              " 'it',\n",
              " 'has',\n",
              " 'a',\n",
              " 'more-or-less',\n",
              " 'normal',\n",
              " 'distribution',\n",
              " 'of',\n",
              " 'letters',\n",
              " ',',\n",
              " 'as',\n",
              " 'opposed',\n",
              " 'to',\n",
              " 'using',\n",
              " \"'Content\",\n",
              " 'here',\n",
              " ',',\n",
              " 'content',\n",
              " 'here',\n",
              " \"'\",\n",
              " ',',\n",
              " 'making',\n",
              " 'it',\n",
              " 'look',\n",
              " 'like',\n",
              " 'readable',\n",
              " 'English',\n",
              " '.',\n",
              " 'Many',\n",
              " 'desktop',\n",
              " 'publishing',\n",
              " 'packages',\n",
              " 'and',\n",
              " 'web',\n",
              " 'page',\n",
              " 'editors',\n",
              " 'now',\n",
              " 'use',\n",
              " 'Lorem',\n",
              " 'Ipsum',\n",
              " 'as',\n",
              " 'their',\n",
              " 'default',\n",
              " 'model',\n",
              " 'text',\n",
              " ',',\n",
              " 'and',\n",
              " 'a',\n",
              " 'search',\n",
              " 'for',\n",
              " \"'lorem\",\n",
              " 'ipsum',\n",
              " \"'\",\n",
              " 'will',\n",
              " 'uncover',\n",
              " 'many',\n",
              " 'web',\n",
              " 'sites',\n",
              " 'still',\n",
              " 'in',\n",
              " 'their',\n",
              " 'infancy',\n",
              " '.',\n",
              " 'Various',\n",
              " 'versions',\n",
              " 'have',\n",
              " 'evolved',\n",
              " 'over',\n",
              " 'the',\n",
              " 'years',\n",
              " ',',\n",
              " 'sometimes',\n",
              " 'by',\n",
              " 'accident',\n",
              " ',',\n",
              " 'sometimes',\n",
              " 'on',\n",
              " 'purpose',\n",
              " '(',\n",
              " 'injected',\n",
              " 'humour',\n",
              " 'and',\n",
              " 'the',\n",
              " 'like',\n",
              " ')',\n",
              " '.']"
            ]
          },
          "metadata": {},
          "execution_count": 11
        }
      ]
    },
    {
      "cell_type": "code",
      "source": [
        "for sentence in sentences:\n",
        "  print(sentence)"
      ],
      "metadata": {
        "colab": {
          "base_uri": "https://localhost:8080/"
        },
        "id": "Q4cKWljZBES9",
        "outputId": "50b53314-561a-418c-e2ef-3de6a6c1b8e7"
      },
      "execution_count": 12,
      "outputs": [
        {
          "output_type": "stream",
          "name": "stdout",
          "text": [
            " It is a long established fact that a reader will be distracted by the readable content\n",
            "of a page when looking at its layout.\n",
            "The point of using Lorem Ipsum is that it has a more-or-less normal distribution of letters,\n",
            "as opposed to using 'Content here, content here', making it look like readable English.\n",
            "Many desktop publishing packages and web page\n",
            "editors now use Lorem Ipsum as their default model text, and a search for 'lorem ipsum' will\n",
            "uncover many web sites still in their infancy.\n",
            "Various versions have evolved over the years,\n",
            "sometimes by accident, sometimes on purpose (injected humour and the like).\n"
          ]
        }
      ]
    },
    {
      "cell_type": "code",
      "source": [
        "for sentence in sentences:\n",
        "  print(word_tokenize(sentence))"
      ],
      "metadata": {
        "colab": {
          "base_uri": "https://localhost:8080/"
        },
        "id": "2A7pN3RnBHhO",
        "outputId": "10f0d181-fb05-4ae8-e63c-94a9a4bcf14f"
      },
      "execution_count": 13,
      "outputs": [
        {
          "output_type": "stream",
          "name": "stdout",
          "text": [
            "['It', 'is', 'a', 'long', 'established', 'fact', 'that', 'a', 'reader', 'will', 'be', 'distracted', 'by', 'the', 'readable', 'content', 'of', 'a', 'page', 'when', 'looking', 'at', 'its', 'layout', '.']\n",
            "['The', 'point', 'of', 'using', 'Lorem', 'Ipsum', 'is', 'that', 'it', 'has', 'a', 'more-or-less', 'normal', 'distribution', 'of', 'letters', ',', 'as', 'opposed', 'to', 'using', \"'Content\", 'here', ',', 'content', 'here', \"'\", ',', 'making', 'it', 'look', 'like', 'readable', 'English', '.']\n",
            "['Many', 'desktop', 'publishing', 'packages', 'and', 'web', 'page', 'editors', 'now', 'use', 'Lorem', 'Ipsum', 'as', 'their', 'default', 'model', 'text', ',', 'and', 'a', 'search', 'for', \"'lorem\", 'ipsum', \"'\", 'will', 'uncover', 'many', 'web', 'sites', 'still', 'in', 'their', 'infancy', '.']\n",
            "['Various', 'versions', 'have', 'evolved', 'over', 'the', 'years', ',', 'sometimes', 'by', 'accident', ',', 'sometimes', 'on', 'purpose', '(', 'injected', 'humour', 'and', 'the', 'like', ')', '.']\n"
          ]
        }
      ]
    },
    {
      "cell_type": "code",
      "source": [
        "from nltk.tokenize import wordpunct_tokenize"
      ],
      "metadata": {
        "id": "zfs9zWh0BPBa"
      },
      "execution_count": 14,
      "outputs": []
    },
    {
      "cell_type": "code",
      "source": [
        "wordpunct_tokenize(corpus)"
      ],
      "metadata": {
        "colab": {
          "base_uri": "https://localhost:8080/"
        },
        "id": "UR8APV6UBUGr",
        "outputId": "4c65cd84-eecd-45dd-dd77-4164f7edbd42"
      },
      "execution_count": 15,
      "outputs": [
        {
          "output_type": "execute_result",
          "data": {
            "text/plain": [
              "['It',\n",
              " 'is',\n",
              " 'a',\n",
              " 'long',\n",
              " 'established',\n",
              " 'fact',\n",
              " 'that',\n",
              " 'a',\n",
              " 'reader',\n",
              " 'will',\n",
              " 'be',\n",
              " 'distracted',\n",
              " 'by',\n",
              " 'the',\n",
              " 'readable',\n",
              " 'content',\n",
              " 'of',\n",
              " 'a',\n",
              " 'page',\n",
              " 'when',\n",
              " 'looking',\n",
              " 'at',\n",
              " 'its',\n",
              " 'layout',\n",
              " '.',\n",
              " 'The',\n",
              " 'point',\n",
              " 'of',\n",
              " 'using',\n",
              " 'Lorem',\n",
              " 'Ipsum',\n",
              " 'is',\n",
              " 'that',\n",
              " 'it',\n",
              " 'has',\n",
              " 'a',\n",
              " 'more',\n",
              " '-',\n",
              " 'or',\n",
              " '-',\n",
              " 'less',\n",
              " 'normal',\n",
              " 'distribution',\n",
              " 'of',\n",
              " 'letters',\n",
              " ',',\n",
              " 'as',\n",
              " 'opposed',\n",
              " 'to',\n",
              " 'using',\n",
              " \"'\",\n",
              " 'Content',\n",
              " 'here',\n",
              " ',',\n",
              " 'content',\n",
              " 'here',\n",
              " \"',\",\n",
              " 'making',\n",
              " 'it',\n",
              " 'look',\n",
              " 'like',\n",
              " 'readable',\n",
              " 'English',\n",
              " '.',\n",
              " 'Many',\n",
              " 'desktop',\n",
              " 'publishing',\n",
              " 'packages',\n",
              " 'and',\n",
              " 'web',\n",
              " 'page',\n",
              " 'editors',\n",
              " 'now',\n",
              " 'use',\n",
              " 'Lorem',\n",
              " 'Ipsum',\n",
              " 'as',\n",
              " 'their',\n",
              " 'default',\n",
              " 'model',\n",
              " 'text',\n",
              " ',',\n",
              " 'and',\n",
              " 'a',\n",
              " 'search',\n",
              " 'for',\n",
              " \"'\",\n",
              " 'lorem',\n",
              " 'ipsum',\n",
              " \"'\",\n",
              " 'will',\n",
              " 'uncover',\n",
              " 'many',\n",
              " 'web',\n",
              " 'sites',\n",
              " 'still',\n",
              " 'in',\n",
              " 'their',\n",
              " 'infancy',\n",
              " '.',\n",
              " 'Various',\n",
              " 'versions',\n",
              " 'have',\n",
              " 'evolved',\n",
              " 'over',\n",
              " 'the',\n",
              " 'years',\n",
              " ',',\n",
              " 'sometimes',\n",
              " 'by',\n",
              " 'accident',\n",
              " ',',\n",
              " 'sometimes',\n",
              " 'on',\n",
              " 'purpose',\n",
              " '(',\n",
              " 'injected',\n",
              " 'humour',\n",
              " 'and',\n",
              " 'the',\n",
              " 'like',\n",
              " ').']"
            ]
          },
          "metadata": {},
          "execution_count": 15
        }
      ]
    },
    {
      "cell_type": "code",
      "source": [
        "from nltk.tokenize import TreebankWordTokenizer\n",
        "tokenizer = TreebankWordTokenizer()\n",
        "text = \"Don't hesitate to ask questions.\"\n",
        "print(tokenizer.tokenize(text))"
      ],
      "metadata": {
        "colab": {
          "base_uri": "https://localhost:8080/"
        },
        "id": "sj1q9p16BaZc",
        "outputId": "1c03699f-c088-4985-f3f1-0aec109f2fe9"
      },
      "execution_count": 16,
      "outputs": [
        {
          "output_type": "stream",
          "name": "stdout",
          "text": [
            "['Do', \"n't\", 'hesitate', 'to', 'ask', 'questions', '.']\n"
          ]
        }
      ]
    },
    {
      "cell_type": "code",
      "source": [
        "words = ['eating','eat','ate','eats','writing','writes','programming','meeting','programs', 'history','finally','finalize','finalized']"
      ],
      "metadata": {
        "id": "J2vbsF_JVJIp"
      },
      "execution_count": 17,
      "outputs": []
    },
    {
      "cell_type": "code",
      "source": [
        "from nltk.stem import PorterStemmer"
      ],
      "metadata": {
        "id": "G4_iCEKgWtiW"
      },
      "execution_count": 18,
      "outputs": []
    },
    {
      "cell_type": "code",
      "source": [
        "stemming = PorterStemmer()"
      ],
      "metadata": {
        "id": "xrFaG7VWWt5D"
      },
      "execution_count": 19,
      "outputs": []
    },
    {
      "cell_type": "code",
      "source": [
        "for word in words:\n",
        "  print(word+\" --> \"+stemming.stem(word))"
      ],
      "metadata": {
        "colab": {
          "base_uri": "https://localhost:8080/"
        },
        "id": "2xPIEKjdXy2s",
        "outputId": "f2b73c4e-2e97-435f-f6a3-af5ce0546b3b"
      },
      "execution_count": 20,
      "outputs": [
        {
          "output_type": "stream",
          "name": "stdout",
          "text": [
            "eating --> eat\n",
            "eat --> eat\n",
            "ate --> ate\n",
            "eats --> eat\n",
            "writing --> write\n",
            "writes --> write\n",
            "programming --> program\n",
            "meeting --> meet\n",
            "programs --> program\n",
            "history --> histori\n",
            "finally --> final\n",
            "finalize --> final\n",
            "finalized --> final\n"
          ]
        }
      ]
    },
    {
      "cell_type": "code",
      "source": [
        "stemming.stem('congratulations')"
      ],
      "metadata": {
        "colab": {
          "base_uri": "https://localhost:8080/",
          "height": 35
        },
        "id": "ky1L7wFdZbFp",
        "outputId": "fa0b84d2-c9d5-4eaf-96f1-ce88f0a96485"
      },
      "execution_count": 21,
      "outputs": [
        {
          "output_type": "execute_result",
          "data": {
            "text/plain": [
              "'congratul'"
            ],
            "application/vnd.google.colaboratory.intrinsic+json": {
              "type": "string"
            }
          },
          "metadata": {},
          "execution_count": 21
        }
      ]
    },
    {
      "cell_type": "code",
      "source": [
        "from nltk.stem import RegexpStemmer"
      ],
      "metadata": {
        "id": "23VLwbUfZnYZ"
      },
      "execution_count": 22,
      "outputs": []
    },
    {
      "cell_type": "code",
      "source": [
        "reg=RegexpStemmer('ing$|s$|e$|able$', min=4)"
      ],
      "metadata": {
        "id": "zbMlcDYQZthJ"
      },
      "execution_count": 23,
      "outputs": []
    },
    {
      "cell_type": "code",
      "source": [
        "reg.stem('eating')"
      ],
      "metadata": {
        "colab": {
          "base_uri": "https://localhost:8080/",
          "height": 35
        },
        "id": "ioy8OSWhZ8kx",
        "outputId": "854b8191-6998-4d2a-9f09-9fc93062f17e"
      },
      "execution_count": 24,
      "outputs": [
        {
          "output_type": "execute_result",
          "data": {
            "text/plain": [
              "'eat'"
            ],
            "application/vnd.google.colaboratory.intrinsic+json": {
              "type": "string"
            }
          },
          "metadata": {},
          "execution_count": 24
        }
      ]
    },
    {
      "cell_type": "code",
      "source": [
        "reg.stem('ate')"
      ],
      "metadata": {
        "colab": {
          "base_uri": "https://localhost:8080/",
          "height": 35
        },
        "id": "MR2H30kXaDiA",
        "outputId": "e023068a-b8b8-4f89-96e8-31ee0389bb97"
      },
      "execution_count": 25,
      "outputs": [
        {
          "output_type": "execute_result",
          "data": {
            "text/plain": [
              "'ate'"
            ],
            "application/vnd.google.colaboratory.intrinsic+json": {
              "type": "string"
            }
          },
          "metadata": {},
          "execution_count": 25
        }
      ]
    },
    {
      "cell_type": "code",
      "source": [
        "from nltk.stem import SnowballStemmer"
      ],
      "metadata": {
        "id": "Kswou1ssaT9g"
      },
      "execution_count": 26,
      "outputs": []
    },
    {
      "cell_type": "code",
      "source": [
        "snow = SnowballStemmer(language='english')"
      ],
      "metadata": {
        "id": "joyAjF4GaaIn"
      },
      "execution_count": 27,
      "outputs": []
    },
    {
      "cell_type": "code",
      "source": [
        "for word in words:\n",
        "  print(word+\" --> \"+snow.stem(word))"
      ],
      "metadata": {
        "colab": {
          "base_uri": "https://localhost:8080/"
        },
        "id": "rePHFWoPacfg",
        "outputId": "6c7539bb-c511-474e-fcf1-b452fbf07815"
      },
      "execution_count": 28,
      "outputs": [
        {
          "output_type": "stream",
          "name": "stdout",
          "text": [
            "eating --> eat\n",
            "eat --> eat\n",
            "ate --> ate\n",
            "eats --> eat\n",
            "writing --> write\n",
            "writes --> write\n",
            "programming --> program\n",
            "meeting --> meet\n",
            "programs --> program\n",
            "history --> histori\n",
            "finally --> final\n",
            "finalize --> final\n",
            "finalized --> final\n"
          ]
        }
      ]
    },
    {
      "cell_type": "code",
      "source": [
        "stemming.stem('fairly'), stemming.stem('sportingly')"
      ],
      "metadata": {
        "colab": {
          "base_uri": "https://localhost:8080/"
        },
        "id": "UKN6U-jgawfu",
        "outputId": "0d455fe5-f0a1-4878-f9d7-a796d684ce0c"
      },
      "execution_count": 29,
      "outputs": [
        {
          "output_type": "execute_result",
          "data": {
            "text/plain": [
              "('fairli', 'sportingli')"
            ]
          },
          "metadata": {},
          "execution_count": 29
        }
      ]
    },
    {
      "cell_type": "code",
      "source": [
        "snow.stem('fairly'), snow.stem('sportingly')"
      ],
      "metadata": {
        "colab": {
          "base_uri": "https://localhost:8080/"
        },
        "id": "dCzZYkEJa-wW",
        "outputId": "22e19c91-90f7-47a5-b41f-d8043b8bea97"
      },
      "execution_count": 30,
      "outputs": [
        {
          "output_type": "execute_result",
          "data": {
            "text/plain": [
              "('fair', 'sport')"
            ]
          },
          "metadata": {},
          "execution_count": 30
        }
      ]
    },
    {
      "cell_type": "markdown",
      "source": [
        "### Lemmatization ###"
      ],
      "metadata": {
        "id": "azfPiI9MylPr"
      }
    },
    {
      "cell_type": "code",
      "source": [
        "from nltk.stem import WordNetLemmatizer"
      ],
      "metadata": {
        "id": "w_o0CQgvypUS"
      },
      "execution_count": 31,
      "outputs": []
    },
    {
      "cell_type": "code",
      "source": [
        "lemmatizer = WordNetLemmatizer()\n",
        "lemmatizer.lemmatize('corporation')"
      ],
      "metadata": {
        "colab": {
          "base_uri": "https://localhost:8080/",
          "height": 35
        },
        "id": "HHjdENXYzA6R",
        "outputId": "fe05480e-664e-4ff9-fb9d-47b6de57a3ee"
      },
      "execution_count": 34,
      "outputs": [
        {
          "output_type": "execute_result",
          "data": {
            "text/plain": [
              "'corporation'"
            ],
            "application/vnd.google.colaboratory.intrinsic+json": {
              "type": "string"
            }
          },
          "metadata": {},
          "execution_count": 34
        }
      ]
    },
    {
      "cell_type": "code",
      "source": [
        "lemmatizer.lemmatize('going', pos='v')"
      ],
      "metadata": {
        "colab": {
          "base_uri": "https://localhost:8080/",
          "height": 35
        },
        "id": "Exwlqh5izBU5",
        "outputId": "22a62164-1996-4c7f-cc3a-014f5aca5ded"
      },
      "execution_count": 36,
      "outputs": [
        {
          "output_type": "execute_result",
          "data": {
            "text/plain": [
              "'go'"
            ],
            "application/vnd.google.colaboratory.intrinsic+json": {
              "type": "string"
            }
          },
          "metadata": {},
          "execution_count": 36
        }
      ]
    },
    {
      "cell_type": "code",
      "source": [
        "for word in words:\n",
        "  print(word+\" --> \"+lemmatizer.lemmatize(word, pos='v'))"
      ],
      "metadata": {
        "colab": {
          "base_uri": "https://localhost:8080/"
        },
        "id": "BqUwNbCQzBpD",
        "outputId": "b4038998-48c0-47d7-94a5-09faf5c44748"
      },
      "execution_count": 38,
      "outputs": [
        {
          "output_type": "stream",
          "name": "stdout",
          "text": [
            "eating --> eat\n",
            "eat --> eat\n",
            "ate --> eat\n",
            "eats --> eat\n",
            "writing --> write\n",
            "writes --> write\n",
            "programming --> program\n",
            "meeting --> meet\n",
            "programs --> program\n",
            "history --> history\n",
            "finally --> finally\n",
            "finalize --> finalize\n",
            "finalized --> finalize\n"
          ]
        }
      ]
    },
    {
      "cell_type": "code",
      "source": [
        "lemmatizer.lemmatize('fairly', pos='r')"
      ],
      "metadata": {
        "colab": {
          "base_uri": "https://localhost:8080/",
          "height": 35
        },
        "id": "zC3m7tEuzCB3",
        "outputId": "f54b5d6c-4677-4c44-ed82-ed27ee0a194e"
      },
      "execution_count": 43,
      "outputs": [
        {
          "output_type": "execute_result",
          "data": {
            "text/plain": [
              "'fairly'"
            ],
            "application/vnd.google.colaboratory.intrinsic+json": {
              "type": "string"
            }
          },
          "metadata": {},
          "execution_count": 43
        }
      ]
    },
    {
      "cell_type": "code",
      "source": [
        "speech = \"\"\"  A. P. J. Abdul Kalam gave many speeches, including ones about his vision for India, the importance of innovation, and the value of education. Some of his most well-known quotes include:\n",
        "\"You have to dream before your dreams can come true\"\n",
        "\"If you want to shine like a sun, first burn like a sun\"\n",
        "\"Excellence is a continuous process and not an accident\"\n",
        "\"Don't fear for facing failure in the first attempt\"\n",
        "Some of his speeches include:\n",
        "Vision for India\n",
        "Kalam spoke about India's potential to become a developed nation, and the need for the country to stand up to the world.\n",
        "Innovation\n",
        "Kalam spoke about the importance of innovation, and how it can power economic prosperity.\n",
        "Education\n",
        "Kalam spoke about the importance of education, and how it can help people achieve their goals.\n",
        "Departing speech\n",
        "Kalam spoke about his vision for India in 2020, including the need to reduce the rural-urban divide, and to provide access to quality education and healthcare. \"\"\"\n"
      ],
      "metadata": {
        "id": "3EJG4_HJzCWY"
      },
      "execution_count": 45,
      "outputs": []
    },
    {
      "cell_type": "code",
      "source": [
        "print(speech)"
      ],
      "metadata": {
        "colab": {
          "base_uri": "https://localhost:8080/"
        },
        "id": "rJmCIVSY1fXh",
        "outputId": "365d15b6-b018-465c-b31c-555ef02995d7"
      },
      "execution_count": 46,
      "outputs": [
        {
          "output_type": "stream",
          "name": "stdout",
          "text": [
            "  A. P. J. Abdul Kalam gave many speeches, including ones about his vision for India, the importance of innovation, and the value of education. Some of his most well-known quotes include: \n",
            "\"You have to dream before your dreams can come true\"\n",
            "\"If you want to shine like a sun, first burn like a sun\"\n",
            "\"Excellence is a continuous process and not an accident\"\n",
            "\"Don't fear for facing failure in the first attempt\"\n",
            "Some of his speeches include:\n",
            "Vision for India\n",
            "Kalam spoke about India's potential to become a developed nation, and the need for the country to stand up to the world. \n",
            "Innovation\n",
            "Kalam spoke about the importance of innovation, and how it can power economic prosperity. \n",
            "Education\n",
            "Kalam spoke about the importance of education, and how it can help people achieve their goals. \n",
            "Departing speech\n",
            "Kalam spoke about his vision for India in 2020, including the need to reduce the rural-urban divide, and to provide access to quality education and healthcare. \n"
          ]
        }
      ]
    },
    {
      "cell_type": "markdown",
      "source": [
        "### Stop Words"
      ],
      "metadata": {
        "id": "Sv3Xe6BtDuG0"
      }
    },
    {
      "cell_type": "code",
      "source": [
        "from nltk.corpus import stopwords"
      ],
      "metadata": {
        "id": "FQXeF0e21xHb"
      },
      "execution_count": 47,
      "outputs": []
    },
    {
      "cell_type": "code",
      "source": [
        "stopwords.words('english')"
      ],
      "metadata": {
        "colab": {
          "base_uri": "https://localhost:8080/"
        },
        "id": "sn0X82331x7-",
        "outputId": "61a09c66-2aa5-47cb-a263-d3e9fe799048"
      },
      "execution_count": 49,
      "outputs": [
        {
          "output_type": "execute_result",
          "data": {
            "text/plain": [
              "['i',\n",
              " 'me',\n",
              " 'my',\n",
              " 'myself',\n",
              " 'we',\n",
              " 'our',\n",
              " 'ours',\n",
              " 'ourselves',\n",
              " 'you',\n",
              " \"you're\",\n",
              " \"you've\",\n",
              " \"you'll\",\n",
              " \"you'd\",\n",
              " 'your',\n",
              " 'yours',\n",
              " 'yourself',\n",
              " 'yourselves',\n",
              " 'he',\n",
              " 'him',\n",
              " 'his',\n",
              " 'himself',\n",
              " 'she',\n",
              " \"she's\",\n",
              " 'her',\n",
              " 'hers',\n",
              " 'herself',\n",
              " 'it',\n",
              " \"it's\",\n",
              " 'its',\n",
              " 'itself',\n",
              " 'they',\n",
              " 'them',\n",
              " 'their',\n",
              " 'theirs',\n",
              " 'themselves',\n",
              " 'what',\n",
              " 'which',\n",
              " 'who',\n",
              " 'whom',\n",
              " 'this',\n",
              " 'that',\n",
              " \"that'll\",\n",
              " 'these',\n",
              " 'those',\n",
              " 'am',\n",
              " 'is',\n",
              " 'are',\n",
              " 'was',\n",
              " 'were',\n",
              " 'be',\n",
              " 'been',\n",
              " 'being',\n",
              " 'have',\n",
              " 'has',\n",
              " 'had',\n",
              " 'having',\n",
              " 'do',\n",
              " 'does',\n",
              " 'did',\n",
              " 'doing',\n",
              " 'a',\n",
              " 'an',\n",
              " 'the',\n",
              " 'and',\n",
              " 'but',\n",
              " 'if',\n",
              " 'or',\n",
              " 'because',\n",
              " 'as',\n",
              " 'until',\n",
              " 'while',\n",
              " 'of',\n",
              " 'at',\n",
              " 'by',\n",
              " 'for',\n",
              " 'with',\n",
              " 'about',\n",
              " 'against',\n",
              " 'between',\n",
              " 'into',\n",
              " 'through',\n",
              " 'during',\n",
              " 'before',\n",
              " 'after',\n",
              " 'above',\n",
              " 'below',\n",
              " 'to',\n",
              " 'from',\n",
              " 'up',\n",
              " 'down',\n",
              " 'in',\n",
              " 'out',\n",
              " 'on',\n",
              " 'off',\n",
              " 'over',\n",
              " 'under',\n",
              " 'again',\n",
              " 'further',\n",
              " 'then',\n",
              " 'once',\n",
              " 'here',\n",
              " 'there',\n",
              " 'when',\n",
              " 'where',\n",
              " 'why',\n",
              " 'how',\n",
              " 'all',\n",
              " 'any',\n",
              " 'both',\n",
              " 'each',\n",
              " 'few',\n",
              " 'more',\n",
              " 'most',\n",
              " 'other',\n",
              " 'some',\n",
              " 'such',\n",
              " 'no',\n",
              " 'nor',\n",
              " 'not',\n",
              " 'only',\n",
              " 'own',\n",
              " 'same',\n",
              " 'so',\n",
              " 'than',\n",
              " 'too',\n",
              " 'very',\n",
              " 's',\n",
              " 't',\n",
              " 'can',\n",
              " 'will',\n",
              " 'just',\n",
              " 'don',\n",
              " \"don't\",\n",
              " 'should',\n",
              " \"should've\",\n",
              " 'now',\n",
              " 'd',\n",
              " 'll',\n",
              " 'm',\n",
              " 'o',\n",
              " 're',\n",
              " 've',\n",
              " 'y',\n",
              " 'ain',\n",
              " 'aren',\n",
              " \"aren't\",\n",
              " 'couldn',\n",
              " \"couldn't\",\n",
              " 'didn',\n",
              " \"didn't\",\n",
              " 'doesn',\n",
              " \"doesn't\",\n",
              " 'hadn',\n",
              " \"hadn't\",\n",
              " 'hasn',\n",
              " \"hasn't\",\n",
              " 'haven',\n",
              " \"haven't\",\n",
              " 'isn',\n",
              " \"isn't\",\n",
              " 'ma',\n",
              " 'mightn',\n",
              " \"mightn't\",\n",
              " 'mustn',\n",
              " \"mustn't\",\n",
              " 'needn',\n",
              " \"needn't\",\n",
              " 'shan',\n",
              " \"shan't\",\n",
              " 'shouldn',\n",
              " \"shouldn't\",\n",
              " 'wasn',\n",
              " \"wasn't\",\n",
              " 'weren',\n",
              " \"weren't\",\n",
              " 'won',\n",
              " \"won't\",\n",
              " 'wouldn',\n",
              " \"wouldn't\"]"
            ]
          },
          "metadata": {},
          "execution_count": 49
        }
      ]
    },
    {
      "cell_type": "code",
      "source": [
        "stemmer = PorterStemmer()\n",
        "snowball = SnowballStemmer(language='english')"
      ],
      "metadata": {
        "id": "uAXqrnEU1yJU"
      },
      "execution_count": 55,
      "outputs": []
    },
    {
      "cell_type": "code",
      "source": [
        "sentences = nltk.sent_tokenize(speech)"
      ],
      "metadata": {
        "colab": {
          "base_uri": "https://localhost:8080/"
        },
        "id": "ze54Wcak1ybs",
        "outputId": "dbd68d25-41d0-4c6d-cb12-e77fd1733c81"
      },
      "execution_count": 51,
      "outputs": [
        {
          "output_type": "execute_result",
          "data": {
            "text/plain": [
              "['  A. P. J. Abdul Kalam gave many speeches, including ones about his vision for India, the importance of innovation, and the value of education.',\n",
              " 'Some of his most well-known quotes include: \\n\"You have to dream before your dreams can come true\"\\n\"If you want to shine like a sun, first burn like a sun\"\\n\"Excellence is a continuous process and not an accident\"\\n\"Don\\'t fear for facing failure in the first attempt\"\\nSome of his speeches include:\\nVision for India\\nKalam spoke about India\\'s potential to become a developed nation, and the need for the country to stand up to the world.',\n",
              " 'Innovation\\nKalam spoke about the importance of innovation, and how it can power economic prosperity.',\n",
              " 'Education\\nKalam spoke about the importance of education, and how it can help people achieve their goals.',\n",
              " 'Departing speech\\nKalam spoke about his vision for India in 2020, including the need to reduce the rural-urban divide, and to provide access to quality education and healthcare.']"
            ]
          },
          "metadata": {},
          "execution_count": 51
        }
      ]
    },
    {
      "cell_type": "code",
      "source": [
        "### Apply stopwords, filter and then apply stemming"
      ],
      "metadata": {
        "id": "9FQE4tpY1yus"
      },
      "execution_count": null,
      "outputs": []
    },
    {
      "cell_type": "code",
      "source": [
        "for i in range(len(sentences)):\n",
        "  words = nltk.word_tokenize(sentences[i])\n",
        "  words = [stemmer.stem(word) for word in words if word not in set(stopwords.words('english'))]\n",
        "  sentences[i] = ' '.join(words)"
      ],
      "metadata": {
        "id": "FiRKKYnt1zM0"
      },
      "execution_count": 52,
      "outputs": []
    },
    {
      "cell_type": "code",
      "source": [
        "sentences"
      ],
      "metadata": {
        "colab": {
          "base_uri": "https://localhost:8080/"
        },
        "id": "7HIiSDCT3nm2",
        "outputId": "7af1fc88-f664-47a4-938e-b1914ffad753"
      },
      "execution_count": 53,
      "outputs": [
        {
          "output_type": "execute_result",
          "data": {
            "text/plain": [
              "['it long establish fact reader distract readabl content page look layout .',\n",
              " \"the point use lorem ipsum more-or-less normal distribut letter , oppos use 'content , content ' , make look like readabl english .\",\n",
              " \"mani desktop publish packag web page editor use lorem ipsum default model text , search 'lorem ipsum ' uncov mani web site still infanc .\",\n",
              " 'variou version evolv year , sometim accid , sometim purpos ( inject humour like ) .']"
            ]
          },
          "metadata": {},
          "execution_count": 53
        }
      ]
    },
    {
      "cell_type": "code",
      "source": [
        "len(sentences)"
      ],
      "metadata": {
        "colab": {
          "base_uri": "https://localhost:8080/"
        },
        "id": "awXJl2iF34iW",
        "outputId": "8a228f68-e87e-4dc5-9fd3-aced0b42ebc3"
      },
      "execution_count": 54,
      "outputs": [
        {
          "output_type": "execute_result",
          "data": {
            "text/plain": [
              "4"
            ]
          },
          "metadata": {},
          "execution_count": 54
        }
      ]
    },
    {
      "cell_type": "code",
      "source": [
        "for i in range(len(sentences)):\n",
        "  words = nltk.word_tokenize(sentences[i])\n",
        "  words = [snowball.stem(word) for word in words if word not in set(stopwords.words('english'))]\n",
        "  sentences[i] = ' '.join(words)"
      ],
      "metadata": {
        "id": "rSLRhdW34CtE"
      },
      "execution_count": 56,
      "outputs": []
    },
    {
      "cell_type": "code",
      "source": [
        "sentences"
      ],
      "metadata": {
        "colab": {
          "base_uri": "https://localhost:8080/"
        },
        "id": "Zx5-hVLG4Grs",
        "outputId": "d156ee21-d282-4649-8552-37d5aefead13"
      },
      "execution_count": 57,
      "outputs": [
        {
          "output_type": "execute_result",
          "data": {
            "text/plain": [
              "['long establish fact reader distract readabl content page look layout .',\n",
              " \"point use lorem ipsum more-or-less normal distribut letter , oppo use content , content ' , make look like readabl english .\",\n",
              " \"mani desktop publish packag web page editor use lorem ipsum default model text , search lorem ipsum ' uncov mani web site still infanc .\",\n",
              " 'variou version evolv year , sometim accid , sometim purpo ( inject humour like ) .']"
            ]
          },
          "metadata": {},
          "execution_count": 57
        }
      ]
    },
    {
      "cell_type": "code",
      "source": [
        "for i in range(len(sentences)):\n",
        "  words = nltk.word_tokenize(sentences[i])\n",
        "  words = [lemmatizer.lemmatize(word, pos='v') for word in words if word not in set(stopwords.words('english'))]\n",
        "  sentences[i] = ' '.join(words)"
      ],
      "metadata": {
        "id": "W4Os8rs64UU2"
      },
      "execution_count": 60,
      "outputs": []
    },
    {
      "cell_type": "code",
      "source": [
        "sentences"
      ],
      "metadata": {
        "colab": {
          "base_uri": "https://localhost:8080/"
        },
        "id": "3sGVFMc94eFp",
        "outputId": "07420081-5e6b-49fd-b975-2bfac6ab40a0"
      },
      "execution_count": 61,
      "outputs": [
        {
          "output_type": "execute_result",
          "data": {
            "text/plain": [
              "['long establish fact reader distract readabl content page look layout .',\n",
              " \"point use lorem ipsum more-or-less normal distribut letter , oppo use content , content ' , make look like readabl english .\",\n",
              " \"mani desktop publish packag web page editor use lorem ipsum default model text , search lorem ipsum ' uncov mani web site still infanc .\",\n",
              " 'variou version evolv year , sometim accid , sometim purpo ( inject humour like ) .']"
            ]
          },
          "metadata": {},
          "execution_count": 61
        }
      ]
    },
    {
      "cell_type": "markdown",
      "source": [
        "### Parts of Sentence - POS ###"
      ],
      "metadata": {
        "id": "MQrg8bNxD8Oz"
      }
    },
    {
      "cell_type": "code",
      "source": [
        "taj = \"Taj Mahal is a beautiful Monument build in India during the 16th century AD by Shahjahan\""
      ],
      "metadata": {
        "id": "1rDc4Ssr5Ot9"
      },
      "execution_count": 71,
      "outputs": []
    },
    {
      "cell_type": "code",
      "source": [
        "taj.split()"
      ],
      "metadata": {
        "colab": {
          "base_uri": "https://localhost:8080/"
        },
        "id": "q51sUa9N5PXv",
        "outputId": "5233fb55-dad8-4ad2-823b-ae3e51979186"
      },
      "execution_count": 63,
      "outputs": [
        {
          "output_type": "execute_result",
          "data": {
            "text/plain": [
              "['Taj', 'Mahal', 'is', 'a', 'beautiful', 'Monument', 'build', 'in', 'India']"
            ]
          },
          "metadata": {},
          "execution_count": 63
        }
      ]
    },
    {
      "cell_type": "code",
      "source": [
        "#for word in taj.split():\n",
        "print(nltk.pos_tag(taj.split()))"
      ],
      "metadata": {
        "colab": {
          "base_uri": "https://localhost:8080/"
        },
        "id": "W44sg7Si5Ptv",
        "outputId": "cd30dd39-213d-4084-90c8-32b580eac56f"
      },
      "execution_count": 69,
      "outputs": [
        {
          "output_type": "stream",
          "name": "stdout",
          "text": [
            "[('Taj', 'NNP'), ('Mahal', 'NNP'), ('is', 'VBZ'), ('a', 'DT'), ('beautiful', 'JJ'), ('Monument', 'NNP'), ('build', 'NN'), ('in', 'IN'), ('India', 'NNP')]\n"
          ]
        }
      ]
    },
    {
      "cell_type": "code",
      "source": [
        "words = nltk.word_tokenize(taj)"
      ],
      "metadata": {
        "id": "wgqRKH1d5QBW"
      },
      "execution_count": 73,
      "outputs": []
    },
    {
      "cell_type": "code",
      "source": [
        "tag_elelements = nltk.pos_tag(words)"
      ],
      "metadata": {
        "id": "YTQn8ysJ_Wjh"
      },
      "execution_count": 75,
      "outputs": []
    },
    {
      "cell_type": "code",
      "source": [
        "#nltk.ne_chunk(tag_elelements).draw()"
      ],
      "metadata": {
        "id": "_HmPNETH_W6C"
      },
      "execution_count": 88,
      "outputs": []
    },
    {
      "cell_type": "code",
      "source": [
        "# Assuming 'tag_elelements' already contains the tagged words\n",
        "tree = nltk.ne_chunk(tag_elelements)\n",
        "\n",
        "# Convert the tree to an SVG image using svgling\n",
        "svg = svgling.draw_tree(tree)\n",
        "\n",
        "# Display the SVG image in the notebook\n",
        "from IPython.display import display\n",
        "display(svg)"
      ],
      "metadata": {
        "colab": {
          "base_uri": "https://localhost:8080/",
          "height": 189
        },
        "id": "N-wmy2ff5QT2",
        "outputId": "84ccdf68-755d-4f7c-81b8-c023273ffcfa"
      },
      "execution_count": 87,
      "outputs": [
        {
          "output_type": "display_data",
          "data": {
            "text/plain": [
              "TreeLayout(Tree('S', [Tree('PERSON', [('Taj', 'NNP')]), Tree('ORGANIZATION', [('Mahal', 'NNP')]), ('is', 'VBZ'), ('a', 'DT'), ('beautiful', 'JJ'), ('Monument', 'NNP'), ('build', 'NN'), ('in', 'IN'), Tree('GPE', [('India', 'NNP')]), ('during', 'IN'), ('the', 'DT'), ('16th', 'JJ'), ('century', 'NN'), ('AD', 'NNP'), ('by', 'IN'), Tree('PERSON', [('Shahjahan', 'NNP')])]))"
            ],
            "image/svg+xml": "<svg baseProfile=\"full\" height=\"168px\" preserveAspectRatio=\"xMidYMid meet\" style=\"font-family: times, serif; font-weight: normal; font-style: normal; font-size: 16px\" version=\"1.1\" viewBox=\"0,0,944.0,168.0\" width=\"944px\" xmlns=\"http://www.w3.org/2000/svg\" xmlns:ev=\"http://www.w3.org/2001/xml-events\" xmlns:xlink=\"http://www.w3.org/1999/xlink\"><defs /><svg width=\"100%\" x=\"0\" y=\"0px\"><defs /><text text-anchor=\"middle\" x=\"50%\" y=\"16px\">S</text></svg><svg width=\"6.77966%\" x=\"0%\" y=\"48px\"><defs /><svg width=\"100%\" x=\"0\" y=\"0px\"><defs /><text text-anchor=\"middle\" x=\"50%\" y=\"16px\">PERSON</text></svg><svg width=\"100%\" x=\"0%\" y=\"48px\"><defs /><svg width=\"100%\" x=\"0\" y=\"0px\"><defs /><text text-anchor=\"middle\" x=\"50%\" y=\"16px\">Taj</text></svg><svg width=\"100%\" x=\"0%\" y=\"48px\"><defs /><svg width=\"100%\" x=\"0\" y=\"0px\"><defs /><text text-anchor=\"middle\" x=\"50%\" y=\"16px\">NNP</text></svg></svg><line stroke=\"black\" x1=\"50%\" x2=\"50%\" y1=\"20px\" y2=\"48px\" /></svg><line stroke=\"black\" x1=\"50%\" x2=\"50%\" y1=\"20px\" y2=\"48px\" /></svg><line stroke=\"black\" x1=\"50%\" x2=\"3.38983%\" y1=\"20px\" y2=\"48px\" /><svg width=\"11.8644%\" x=\"6.77966%\" y=\"48px\"><defs /><svg width=\"100%\" x=\"0\" y=\"0px\"><defs /><text text-anchor=\"middle\" x=\"50%\" y=\"16px\">ORGANIZATION</text></svg><svg width=\"100%\" x=\"0%\" y=\"48px\"><defs /><svg width=\"100%\" x=\"0\" y=\"0px\"><defs /><text text-anchor=\"middle\" x=\"50%\" y=\"16px\">Mahal</text></svg><svg width=\"100%\" x=\"0%\" y=\"48px\"><defs /><svg width=\"100%\" x=\"0\" y=\"0px\"><defs /><text text-anchor=\"middle\" x=\"50%\" y=\"16px\">NNP</text></svg></svg><line stroke=\"black\" x1=\"50%\" x2=\"50%\" y1=\"20px\" y2=\"48px\" /></svg><line stroke=\"black\" x1=\"50%\" x2=\"50%\" y1=\"20px\" y2=\"48px\" /></svg><line stroke=\"black\" x1=\"50%\" x2=\"12.7119%\" y1=\"20px\" y2=\"48px\" /><svg width=\"4.23729%\" x=\"18.6441%\" y=\"48px\"><defs /><svg width=\"100%\" x=\"0\" y=\"0px\"><defs /><text text-anchor=\"middle\" x=\"50%\" y=\"16px\">is</text></svg><svg width=\"100%\" x=\"0%\" y=\"48px\"><defs /><svg width=\"100%\" x=\"0\" y=\"0px\"><defs /><text text-anchor=\"middle\" x=\"50%\" y=\"16px\">VBZ</text></svg></svg><line stroke=\"black\" x1=\"50%\" x2=\"50%\" y1=\"20px\" y2=\"48px\" /></svg><line stroke=\"black\" x1=\"50%\" x2=\"20.7627%\" y1=\"20px\" y2=\"48px\" /><svg width=\"3.38983%\" x=\"22.8814%\" y=\"48px\"><defs /><svg width=\"100%\" x=\"0\" y=\"0px\"><defs /><text text-anchor=\"middle\" x=\"50%\" y=\"16px\">a</text></svg><svg width=\"100%\" x=\"0%\" y=\"48px\"><defs /><svg width=\"100%\" x=\"0\" y=\"0px\"><defs /><text text-anchor=\"middle\" x=\"50%\" y=\"16px\">DT</text></svg></svg><line stroke=\"black\" x1=\"50%\" x2=\"50%\" y1=\"20px\" y2=\"48px\" /></svg><line stroke=\"black\" x1=\"50%\" x2=\"24.5763%\" y1=\"20px\" y2=\"48px\" /><svg width=\"9.32203%\" x=\"26.2712%\" y=\"48px\"><defs /><svg width=\"100%\" x=\"0\" y=\"0px\"><defs /><text text-anchor=\"middle\" x=\"50%\" y=\"16px\">beautiful</text></svg><svg width=\"100%\" x=\"0%\" y=\"48px\"><defs /><svg width=\"100%\" x=\"0\" y=\"0px\"><defs /><text text-anchor=\"middle\" x=\"50%\" y=\"16px\">JJ</text></svg></svg><line stroke=\"black\" x1=\"50%\" x2=\"50%\" y1=\"20px\" y2=\"48px\" /></svg><line stroke=\"black\" x1=\"50%\" x2=\"30.9322%\" y1=\"20px\" y2=\"48px\" /><svg width=\"8.47458%\" x=\"35.5932%\" y=\"48px\"><defs /><svg width=\"100%\" x=\"0\" y=\"0px\"><defs /><text text-anchor=\"middle\" x=\"50%\" y=\"16px\">Monument</text></svg><svg width=\"100%\" x=\"0%\" y=\"48px\"><defs /><svg width=\"100%\" x=\"0\" y=\"0px\"><defs /><text text-anchor=\"middle\" x=\"50%\" y=\"16px\">NNP</text></svg></svg><line stroke=\"black\" x1=\"50%\" x2=\"50%\" y1=\"20px\" y2=\"48px\" /></svg><line stroke=\"black\" x1=\"50%\" x2=\"39.8305%\" y1=\"20px\" y2=\"48px\" /><svg width=\"5.9322%\" x=\"44.0678%\" y=\"48px\"><defs /><svg width=\"100%\" x=\"0\" y=\"0px\"><defs /><text text-anchor=\"middle\" x=\"50%\" y=\"16px\">build</text></svg><svg width=\"100%\" x=\"0%\" y=\"48px\"><defs /><svg width=\"100%\" x=\"0\" y=\"0px\"><defs /><text text-anchor=\"middle\" x=\"50%\" y=\"16px\">NN</text></svg></svg><line stroke=\"black\" x1=\"50%\" x2=\"50%\" y1=\"20px\" y2=\"48px\" /></svg><line stroke=\"black\" x1=\"50%\" x2=\"47.0339%\" y1=\"20px\" y2=\"48px\" /><svg width=\"3.38983%\" x=\"50%\" y=\"48px\"><defs /><svg width=\"100%\" x=\"0\" y=\"0px\"><defs /><text text-anchor=\"middle\" x=\"50%\" y=\"16px\">in</text></svg><svg width=\"100%\" x=\"0%\" y=\"48px\"><defs /><svg width=\"100%\" x=\"0\" y=\"0px\"><defs /><text text-anchor=\"middle\" x=\"50%\" y=\"16px\">IN</text></svg></svg><line stroke=\"black\" x1=\"50%\" x2=\"50%\" y1=\"20px\" y2=\"48px\" /></svg><line stroke=\"black\" x1=\"50%\" x2=\"51.6949%\" y1=\"20px\" y2=\"48px\" /><svg width=\"5.9322%\" x=\"53.3898%\" y=\"48px\"><defs /><svg width=\"100%\" x=\"0\" y=\"0px\"><defs /><text text-anchor=\"middle\" x=\"50%\" y=\"16px\">GPE</text></svg><svg width=\"100%\" x=\"0%\" y=\"48px\"><defs /><svg width=\"100%\" x=\"0\" y=\"0px\"><defs /><text text-anchor=\"middle\" x=\"50%\" y=\"16px\">India</text></svg><svg width=\"100%\" x=\"0%\" y=\"48px\"><defs /><svg width=\"100%\" x=\"0\" y=\"0px\"><defs /><text text-anchor=\"middle\" x=\"50%\" y=\"16px\">NNP</text></svg></svg><line stroke=\"black\" x1=\"50%\" x2=\"50%\" y1=\"20px\" y2=\"48px\" /></svg><line stroke=\"black\" x1=\"50%\" x2=\"50%\" y1=\"20px\" y2=\"48px\" /></svg><line stroke=\"black\" x1=\"50%\" x2=\"56.3559%\" y1=\"20px\" y2=\"48px\" /><svg width=\"6.77966%\" x=\"59.322%\" y=\"48px\"><defs /><svg width=\"100%\" x=\"0\" y=\"0px\"><defs /><text text-anchor=\"middle\" x=\"50%\" y=\"16px\">during</text></svg><svg width=\"100%\" x=\"0%\" y=\"48px\"><defs /><svg width=\"100%\" x=\"0\" y=\"0px\"><defs /><text text-anchor=\"middle\" x=\"50%\" y=\"16px\">IN</text></svg></svg><line stroke=\"black\" x1=\"50%\" x2=\"50%\" y1=\"20px\" y2=\"48px\" /></svg><line stroke=\"black\" x1=\"50%\" x2=\"62.7119%\" y1=\"20px\" y2=\"48px\" /><svg width=\"4.23729%\" x=\"66.1017%\" y=\"48px\"><defs /><svg width=\"100%\" x=\"0\" y=\"0px\"><defs /><text text-anchor=\"middle\" x=\"50%\" y=\"16px\">the</text></svg><svg width=\"100%\" x=\"0%\" y=\"48px\"><defs /><svg width=\"100%\" x=\"0\" y=\"0px\"><defs /><text text-anchor=\"middle\" x=\"50%\" y=\"16px\">DT</text></svg></svg><line stroke=\"black\" x1=\"50%\" x2=\"50%\" y1=\"20px\" y2=\"48px\" /></svg><line stroke=\"black\" x1=\"50%\" x2=\"68.2203%\" y1=\"20px\" y2=\"48px\" /><svg width=\"5.08475%\" x=\"70.339%\" y=\"48px\"><defs /><svg width=\"100%\" x=\"0\" y=\"0px\"><defs /><text text-anchor=\"middle\" x=\"50%\" y=\"16px\">16th</text></svg><svg width=\"100%\" x=\"0%\" y=\"48px\"><defs /><svg width=\"100%\" x=\"0\" y=\"0px\"><defs /><text text-anchor=\"middle\" x=\"50%\" y=\"16px\">JJ</text></svg></svg><line stroke=\"black\" x1=\"50%\" x2=\"50%\" y1=\"20px\" y2=\"48px\" /></svg><line stroke=\"black\" x1=\"50%\" x2=\"72.8814%\" y1=\"20px\" y2=\"48px\" /><svg width=\"7.62712%\" x=\"75.4237%\" y=\"48px\"><defs /><svg width=\"100%\" x=\"0\" y=\"0px\"><defs /><text text-anchor=\"middle\" x=\"50%\" y=\"16px\">century</text></svg><svg width=\"100%\" x=\"0%\" y=\"48px\"><defs /><svg width=\"100%\" x=\"0\" y=\"0px\"><defs /><text text-anchor=\"middle\" x=\"50%\" y=\"16px\">NN</text></svg></svg><line stroke=\"black\" x1=\"50%\" x2=\"50%\" y1=\"20px\" y2=\"48px\" /></svg><line stroke=\"black\" x1=\"50%\" x2=\"79.2373%\" y1=\"20px\" y2=\"48px\" /><svg width=\"4.23729%\" x=\"83.0508%\" y=\"48px\"><defs /><svg width=\"100%\" x=\"0\" y=\"0px\"><defs /><text text-anchor=\"middle\" x=\"50%\" y=\"16px\">AD</text></svg><svg width=\"100%\" x=\"0%\" y=\"48px\"><defs /><svg width=\"100%\" x=\"0\" y=\"0px\"><defs /><text text-anchor=\"middle\" x=\"50%\" y=\"16px\">NNP</text></svg></svg><line stroke=\"black\" x1=\"50%\" x2=\"50%\" y1=\"20px\" y2=\"48px\" /></svg><line stroke=\"black\" x1=\"50%\" x2=\"85.1695%\" y1=\"20px\" y2=\"48px\" /><svg width=\"3.38983%\" x=\"87.2881%\" y=\"48px\"><defs /><svg width=\"100%\" x=\"0\" y=\"0px\"><defs /><text text-anchor=\"middle\" x=\"50%\" y=\"16px\">by</text></svg><svg width=\"100%\" x=\"0%\" y=\"48px\"><defs /><svg width=\"100%\" x=\"0\" y=\"0px\"><defs /><text text-anchor=\"middle\" x=\"50%\" y=\"16px\">IN</text></svg></svg><line stroke=\"black\" x1=\"50%\" x2=\"50%\" y1=\"20px\" y2=\"48px\" /></svg><line stroke=\"black\" x1=\"50%\" x2=\"88.9831%\" y1=\"20px\" y2=\"48px\" /><svg width=\"9.32203%\" x=\"90.678%\" y=\"48px\"><defs /><svg width=\"100%\" x=\"0\" y=\"0px\"><defs /><text text-anchor=\"middle\" x=\"50%\" y=\"16px\">PERSON</text></svg><svg width=\"100%\" x=\"0%\" y=\"48px\"><defs /><svg width=\"100%\" x=\"0\" y=\"0px\"><defs /><text text-anchor=\"middle\" x=\"50%\" y=\"16px\">Shahjahan</text></svg><svg width=\"100%\" x=\"0%\" y=\"48px\"><defs /><svg width=\"100%\" x=\"0\" y=\"0px\"><defs /><text text-anchor=\"middle\" x=\"50%\" y=\"16px\">NNP</text></svg></svg><line stroke=\"black\" x1=\"50%\" x2=\"50%\" y1=\"20px\" y2=\"48px\" /></svg><line stroke=\"black\" x1=\"50%\" x2=\"50%\" y1=\"20px\" y2=\"48px\" /></svg><line stroke=\"black\" x1=\"50%\" x2=\"95.339%\" y1=\"20px\" y2=\"48px\" /></svg>"
          },
          "metadata": {}
        }
      ]
    },
    {
      "cell_type": "code",
      "source": [],
      "metadata": {
        "id": "qC8YlNEG5QrF"
      },
      "execution_count": null,
      "outputs": []
    }
  ]
}