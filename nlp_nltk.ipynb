{
  "nbformat": 4,
  "nbformat_minor": 0,
  "metadata": {
    "colab": {
      "provenance": [],
      "authorship_tag": "ABX9TyNFBnJd+rYrFboKxWVXhhn5",
      "include_colab_link": true
    },
    "kernelspec": {
      "name": "python3",
      "display_name": "Python 3"
    },
    "language_info": {
      "name": "python"
    }
  },
  "cells": [
    {
      "cell_type": "markdown",
      "metadata": {
        "id": "view-in-github",
        "colab_type": "text"
      },
      "source": [
        "<a href=\"https://colab.research.google.com/github/desaraju02/ai_ml_dl/blob/main/nlp_nltk.ipynb\" target=\"_parent\"><img src=\"https://colab.research.google.com/assets/colab-badge.svg\" alt=\"Open In Colab\"/></a>"
      ]
    },
    {
      "cell_type": "code",
      "execution_count": 1,
      "metadata": {
        "colab": {
          "base_uri": "https://localhost:8080/"
        },
        "id": "edfpPF6m77Kg",
        "outputId": "8626bf19-c03d-4873-88df-f79ecbc9bb26"
      },
      "outputs": [
        {
          "output_type": "stream",
          "name": "stdout",
          "text": [
            "Requirement already satisfied: nltk in /usr/local/lib/python3.11/dist-packages (3.9.1)\n",
            "Requirement already satisfied: click in /usr/local/lib/python3.11/dist-packages (from nltk) (8.1.8)\n",
            "Requirement already satisfied: joblib in /usr/local/lib/python3.11/dist-packages (from nltk) (1.4.2)\n",
            "Requirement already satisfied: regex>=2021.8.3 in /usr/local/lib/python3.11/dist-packages (from nltk) (2024.11.6)\n",
            "Requirement already satisfied: tqdm in /usr/local/lib/python3.11/dist-packages (from nltk) (4.67.1)\n"
          ]
        }
      ],
      "source": [
        "!pip install nltk"
      ]
    },
    {
      "cell_type": "code",
      "source": [
        "import nltk\n",
        "nltk.download('punkt')\n",
        "nltk.download('punkt_tab')"
      ],
      "metadata": {
        "colab": {
          "base_uri": "https://localhost:8080/"
        },
        "id": "nfF8Gjgu97Pe",
        "outputId": "1bf72c2b-b674-499d-acbf-efec14969199"
      },
      "execution_count": 18,
      "outputs": [
        {
          "output_type": "stream",
          "name": "stderr",
          "text": [
            "[nltk_data] Downloading package punkt to /root/nltk_data...\n",
            "[nltk_data]   Package punkt is already up-to-date!\n",
            "[nltk_data] Downloading package punkt_tab to /root/nltk_data...\n",
            "[nltk_data]   Unzipping tokenizers/punkt_tab.zip.\n"
          ]
        },
        {
          "output_type": "execute_result",
          "data": {
            "text/plain": [
              "True"
            ]
          },
          "metadata": {},
          "execution_count": 18
        }
      ]
    },
    {
      "cell_type": "code",
      "source": [
        "corpus = \"\"\" It is a long established fact that a reader will be distracted by the readable content\n",
        "of a page when looking at its layout. The point of using Lorem Ipsum is that it has a more-or-less normal distribution of letters,\n",
        "as opposed to using 'Content here, content here', making it look like readable English. Many desktop publishing packages and web page\n",
        "editors now use Lorem Ipsum as their default model text, and a search for 'lorem ipsum' will\n",
        "uncover many web sites still in their infancy. Various versions have evolved over the years,\n",
        "sometimes by accident, sometimes on purpose (injected humour and the like). \"\"\""
      ],
      "metadata": {
        "id": "tq6WFI9h8FNp"
      },
      "execution_count": 4,
      "outputs": []
    },
    {
      "cell_type": "code",
      "source": [
        "print(corpus)"
      ],
      "metadata": {
        "colab": {
          "base_uri": "https://localhost:8080/"
        },
        "id": "yb98I_my8I6B",
        "outputId": "d3887c25-13a7-4ea7-d059-495885c99ac3"
      },
      "execution_count": 5,
      "outputs": [
        {
          "output_type": "stream",
          "name": "stdout",
          "text": [
            " It is a long established fact that a reader will be distracted by the readable content \n",
            "of a page when looking at its layout. The point of using Lorem Ipsum is that it has a more-or-less normal distribution of letters, \n",
            "as opposed to using 'Content here, content here', making it look like readable English. Many desktop publishing packages and web page \n",
            "editors now use Lorem Ipsum as their default model text, and a search for 'lorem ipsum' will \n",
            "uncover many web sites still in their infancy. Various versions have evolved over the years, \n",
            "sometimes by accident, sometimes on purpose (injected humour and the like). \n"
          ]
        }
      ]
    },
    {
      "cell_type": "code",
      "source": [
        "from nltk.tokenize import sent_tokenize"
      ],
      "metadata": {
        "id": "Y-RTdvL_8KA5"
      },
      "execution_count": 19,
      "outputs": []
    },
    {
      "cell_type": "code",
      "source": [
        "sentences = sent_tokenize(corpus)\n"
      ],
      "metadata": {
        "id": "eQ9_B6w_8PFQ"
      },
      "execution_count": 21,
      "outputs": []
    },
    {
      "cell_type": "code",
      "source": [
        "type(sentences)"
      ],
      "metadata": {
        "colab": {
          "base_uri": "https://localhost:8080/"
        },
        "id": "UARTgtIt-TCc",
        "outputId": "7bb560d0-967a-407c-fe69-8bf71dfa4986"
      },
      "execution_count": 22,
      "outputs": [
        {
          "output_type": "execute_result",
          "data": {
            "text/plain": [
              "list"
            ]
          },
          "metadata": {},
          "execution_count": 22
        }
      ]
    },
    {
      "cell_type": "code",
      "source": [
        "sentences"
      ],
      "metadata": {
        "colab": {
          "base_uri": "https://localhost:8080/"
        },
        "id": "Uvm60EZL-aT8",
        "outputId": "4c5d0d53-a260-40ec-dfd7-d1ccf4f5c8b9"
      },
      "execution_count": 23,
      "outputs": [
        {
          "output_type": "execute_result",
          "data": {
            "text/plain": [
              "[' It is a long established fact that a reader will be distracted by the readable content \\nof a page when looking at its layout.',\n",
              " \"The point of using Lorem Ipsum is that it has a more-or-less normal distribution of letters, \\nas opposed to using 'Content here, content here', making it look like readable English.\",\n",
              " \"Many desktop publishing packages and web page \\neditors now use Lorem Ipsum as their default model text, and a search for 'lorem ipsum' will \\nuncover many web sites still in their infancy.\",\n",
              " 'Various versions have evolved over the years, \\nsometimes by accident, sometimes on purpose (injected humour and the like).']"
            ]
          },
          "metadata": {},
          "execution_count": 23
        }
      ]
    },
    {
      "cell_type": "code",
      "source": [
        "from nltk.tokenize import word_tokenize"
      ],
      "metadata": {
        "id": "GltulnP1-hOy"
      },
      "execution_count": 24,
      "outputs": []
    },
    {
      "cell_type": "code",
      "source": [
        "words = word_tokenize(corpus)"
      ],
      "metadata": {
        "id": "Bu8XlBiO-lyL"
      },
      "execution_count": 25,
      "outputs": []
    },
    {
      "cell_type": "code",
      "source": [
        "words"
      ],
      "metadata": {
        "colab": {
          "base_uri": "https://localhost:8080/"
        },
        "id": "kA4uUoQw-o4D",
        "outputId": "60b10d7c-71fe-4253-ff63-552a9850f884"
      },
      "execution_count": 26,
      "outputs": [
        {
          "output_type": "execute_result",
          "data": {
            "text/plain": [
              "['It',\n",
              " 'is',\n",
              " 'a',\n",
              " 'long',\n",
              " 'established',\n",
              " 'fact',\n",
              " 'that',\n",
              " 'a',\n",
              " 'reader',\n",
              " 'will',\n",
              " 'be',\n",
              " 'distracted',\n",
              " 'by',\n",
              " 'the',\n",
              " 'readable',\n",
              " 'content',\n",
              " 'of',\n",
              " 'a',\n",
              " 'page',\n",
              " 'when',\n",
              " 'looking',\n",
              " 'at',\n",
              " 'its',\n",
              " 'layout',\n",
              " '.',\n",
              " 'The',\n",
              " 'point',\n",
              " 'of',\n",
              " 'using',\n",
              " 'Lorem',\n",
              " 'Ipsum',\n",
              " 'is',\n",
              " 'that',\n",
              " 'it',\n",
              " 'has',\n",
              " 'a',\n",
              " 'more-or-less',\n",
              " 'normal',\n",
              " 'distribution',\n",
              " 'of',\n",
              " 'letters',\n",
              " ',',\n",
              " 'as',\n",
              " 'opposed',\n",
              " 'to',\n",
              " 'using',\n",
              " \"'Content\",\n",
              " 'here',\n",
              " ',',\n",
              " 'content',\n",
              " 'here',\n",
              " \"'\",\n",
              " ',',\n",
              " 'making',\n",
              " 'it',\n",
              " 'look',\n",
              " 'like',\n",
              " 'readable',\n",
              " 'English',\n",
              " '.',\n",
              " 'Many',\n",
              " 'desktop',\n",
              " 'publishing',\n",
              " 'packages',\n",
              " 'and',\n",
              " 'web',\n",
              " 'page',\n",
              " 'editors',\n",
              " 'now',\n",
              " 'use',\n",
              " 'Lorem',\n",
              " 'Ipsum',\n",
              " 'as',\n",
              " 'their',\n",
              " 'default',\n",
              " 'model',\n",
              " 'text',\n",
              " ',',\n",
              " 'and',\n",
              " 'a',\n",
              " 'search',\n",
              " 'for',\n",
              " \"'lorem\",\n",
              " 'ipsum',\n",
              " \"'\",\n",
              " 'will',\n",
              " 'uncover',\n",
              " 'many',\n",
              " 'web',\n",
              " 'sites',\n",
              " 'still',\n",
              " 'in',\n",
              " 'their',\n",
              " 'infancy',\n",
              " '.',\n",
              " 'Various',\n",
              " 'versions',\n",
              " 'have',\n",
              " 'evolved',\n",
              " 'over',\n",
              " 'the',\n",
              " 'years',\n",
              " ',',\n",
              " 'sometimes',\n",
              " 'by',\n",
              " 'accident',\n",
              " ',',\n",
              " 'sometimes',\n",
              " 'on',\n",
              " 'purpose',\n",
              " '(',\n",
              " 'injected',\n",
              " 'humour',\n",
              " 'and',\n",
              " 'the',\n",
              " 'like',\n",
              " ')',\n",
              " '.']"
            ]
          },
          "metadata": {},
          "execution_count": 26
        }
      ]
    },
    {
      "cell_type": "code",
      "source": [
        "for sentence in sentences:\n",
        "  print(sentence)"
      ],
      "metadata": {
        "colab": {
          "base_uri": "https://localhost:8080/"
        },
        "id": "Q4cKWljZBES9",
        "outputId": "17ec9051-663e-4f2d-ee01-575359f74715"
      },
      "execution_count": 27,
      "outputs": [
        {
          "output_type": "stream",
          "name": "stdout",
          "text": [
            " It is a long established fact that a reader will be distracted by the readable content \n",
            "of a page when looking at its layout.\n",
            "The point of using Lorem Ipsum is that it has a more-or-less normal distribution of letters, \n",
            "as opposed to using 'Content here, content here', making it look like readable English.\n",
            "Many desktop publishing packages and web page \n",
            "editors now use Lorem Ipsum as their default model text, and a search for 'lorem ipsum' will \n",
            "uncover many web sites still in their infancy.\n",
            "Various versions have evolved over the years, \n",
            "sometimes by accident, sometimes on purpose (injected humour and the like).\n"
          ]
        }
      ]
    },
    {
      "cell_type": "code",
      "source": [
        "for sentence in sentences:\n",
        "  print(word_tokenize(sentence))"
      ],
      "metadata": {
        "colab": {
          "base_uri": "https://localhost:8080/"
        },
        "id": "2A7pN3RnBHhO",
        "outputId": "7542f91a-eec8-46e9-a37b-a94847ddeacd"
      },
      "execution_count": 28,
      "outputs": [
        {
          "output_type": "stream",
          "name": "stdout",
          "text": [
            "['It', 'is', 'a', 'long', 'established', 'fact', 'that', 'a', 'reader', 'will', 'be', 'distracted', 'by', 'the', 'readable', 'content', 'of', 'a', 'page', 'when', 'looking', 'at', 'its', 'layout', '.']\n",
            "['The', 'point', 'of', 'using', 'Lorem', 'Ipsum', 'is', 'that', 'it', 'has', 'a', 'more-or-less', 'normal', 'distribution', 'of', 'letters', ',', 'as', 'opposed', 'to', 'using', \"'Content\", 'here', ',', 'content', 'here', \"'\", ',', 'making', 'it', 'look', 'like', 'readable', 'English', '.']\n",
            "['Many', 'desktop', 'publishing', 'packages', 'and', 'web', 'page', 'editors', 'now', 'use', 'Lorem', 'Ipsum', 'as', 'their', 'default', 'model', 'text', ',', 'and', 'a', 'search', 'for', \"'lorem\", 'ipsum', \"'\", 'will', 'uncover', 'many', 'web', 'sites', 'still', 'in', 'their', 'infancy', '.']\n",
            "['Various', 'versions', 'have', 'evolved', 'over', 'the', 'years', ',', 'sometimes', 'by', 'accident', ',', 'sometimes', 'on', 'purpose', '(', 'injected', 'humour', 'and', 'the', 'like', ')', '.']\n"
          ]
        }
      ]
    },
    {
      "cell_type": "code",
      "source": [
        "from nltk.tokenize import wordpunct_tokenize"
      ],
      "metadata": {
        "id": "zfs9zWh0BPBa"
      },
      "execution_count": 29,
      "outputs": []
    },
    {
      "cell_type": "code",
      "source": [
        "wordpunct_tokenize(corpus)"
      ],
      "metadata": {
        "colab": {
          "base_uri": "https://localhost:8080/"
        },
        "id": "UR8APV6UBUGr",
        "outputId": "b6d7f5e9-d1ad-4285-be6a-b61650745cd2"
      },
      "execution_count": 30,
      "outputs": [
        {
          "output_type": "execute_result",
          "data": {
            "text/plain": [
              "['It',\n",
              " 'is',\n",
              " 'a',\n",
              " 'long',\n",
              " 'established',\n",
              " 'fact',\n",
              " 'that',\n",
              " 'a',\n",
              " 'reader',\n",
              " 'will',\n",
              " 'be',\n",
              " 'distracted',\n",
              " 'by',\n",
              " 'the',\n",
              " 'readable',\n",
              " 'content',\n",
              " 'of',\n",
              " 'a',\n",
              " 'page',\n",
              " 'when',\n",
              " 'looking',\n",
              " 'at',\n",
              " 'its',\n",
              " 'layout',\n",
              " '.',\n",
              " 'The',\n",
              " 'point',\n",
              " 'of',\n",
              " 'using',\n",
              " 'Lorem',\n",
              " 'Ipsum',\n",
              " 'is',\n",
              " 'that',\n",
              " 'it',\n",
              " 'has',\n",
              " 'a',\n",
              " 'more',\n",
              " '-',\n",
              " 'or',\n",
              " '-',\n",
              " 'less',\n",
              " 'normal',\n",
              " 'distribution',\n",
              " 'of',\n",
              " 'letters',\n",
              " ',',\n",
              " 'as',\n",
              " 'opposed',\n",
              " 'to',\n",
              " 'using',\n",
              " \"'\",\n",
              " 'Content',\n",
              " 'here',\n",
              " ',',\n",
              " 'content',\n",
              " 'here',\n",
              " \"',\",\n",
              " 'making',\n",
              " 'it',\n",
              " 'look',\n",
              " 'like',\n",
              " 'readable',\n",
              " 'English',\n",
              " '.',\n",
              " 'Many',\n",
              " 'desktop',\n",
              " 'publishing',\n",
              " 'packages',\n",
              " 'and',\n",
              " 'web',\n",
              " 'page',\n",
              " 'editors',\n",
              " 'now',\n",
              " 'use',\n",
              " 'Lorem',\n",
              " 'Ipsum',\n",
              " 'as',\n",
              " 'their',\n",
              " 'default',\n",
              " 'model',\n",
              " 'text',\n",
              " ',',\n",
              " 'and',\n",
              " 'a',\n",
              " 'search',\n",
              " 'for',\n",
              " \"'\",\n",
              " 'lorem',\n",
              " 'ipsum',\n",
              " \"'\",\n",
              " 'will',\n",
              " 'uncover',\n",
              " 'many',\n",
              " 'web',\n",
              " 'sites',\n",
              " 'still',\n",
              " 'in',\n",
              " 'their',\n",
              " 'infancy',\n",
              " '.',\n",
              " 'Various',\n",
              " 'versions',\n",
              " 'have',\n",
              " 'evolved',\n",
              " 'over',\n",
              " 'the',\n",
              " 'years',\n",
              " ',',\n",
              " 'sometimes',\n",
              " 'by',\n",
              " 'accident',\n",
              " ',',\n",
              " 'sometimes',\n",
              " 'on',\n",
              " 'purpose',\n",
              " '(',\n",
              " 'injected',\n",
              " 'humour',\n",
              " 'and',\n",
              " 'the',\n",
              " 'like',\n",
              " ').']"
            ]
          },
          "metadata": {},
          "execution_count": 30
        }
      ]
    },
    {
      "cell_type": "code",
      "source": [
        "from nltk.tokenize import TreebankWordTokenizer\n",
        "tokenizer = TreebankWordTokenizer()\n",
        "text = \"Don't hesitate to ask questions.\"\n",
        "print(tokenizer.tokenize(text))"
      ],
      "metadata": {
        "colab": {
          "base_uri": "https://localhost:8080/"
        },
        "id": "sj1q9p16BaZc",
        "outputId": "98dfc866-dc7e-44b6-e1ca-51610629b0ad"
      },
      "execution_count": 31,
      "outputs": [
        {
          "output_type": "stream",
          "name": "stdout",
          "text": [
            "['Do', \"n't\", 'hesitate', 'to', 'ask', 'questions', '.']\n"
          ]
        }
      ]
    },
    {
      "cell_type": "code",
      "source": [],
      "metadata": {
        "id": "J2vbsF_JVJIp"
      },
      "execution_count": null,
      "outputs": []
    },
    {
      "cell_type": "code",
      "source": [],
      "metadata": {
        "id": "G4_iCEKgWtiW"
      },
      "execution_count": null,
      "outputs": []
    },
    {
      "cell_type": "code",
      "source": [],
      "metadata": {
        "id": "xrFaG7VWWt5D"
      },
      "execution_count": null,
      "outputs": []
    }
  ]
}